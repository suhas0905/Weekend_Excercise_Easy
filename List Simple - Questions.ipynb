{
 "cells": [
  {
   "cell_type": "markdown",
   "metadata": {},
   "source": [
    "## List Simple - Questions"
   ]
  },
  {
   "cell_type": "code",
   "execution_count": 1,
   "metadata": {},
   "outputs": [
    {
     "name": "stdout",
     "output_type": "stream",
     "text": [
      "8\n"
     ]
    }
   ],
   "source": [
    "# 1. Write a Python program to check whether the list is empty or not.\n",
    "\n",
    "list=[1,2,3,4,5,6,7,8]\n",
    "if len(list)==0:\n",
    "    print(\"The list is empty\")\n",
    "else:\n",
    "    print(len(list))\n"
   ]
  },
  {
   "cell_type": "code",
   "execution_count": 5,
   "metadata": {},
   "outputs": [
    {
     "name": "stdout",
     "output_type": "stream",
     "text": [
      "0 5\n",
      "1 15\n",
      "2 35\n",
      "3 8\n",
      "4 98\n"
     ]
    }
   ],
   "source": [
    "''' 2. Write a Python program to access the index of all the elements in a list.\n",
    "        Data:\n",
    "            x = [5, 15, 35, 8, 98]\n",
    "        Expected Output:\n",
    "            0 5\n",
    "            1 15\n",
    "            2 35\n",
    "            3 8\n",
    "            4 98 '''\n",
    "x = [5, 15, 35, 8, 98]\n",
    "y=(enumerate(x))\n",
    "for i,j in y:\n",
    "    print(i,j)\n"
   ]
  },
  {
   "cell_type": "code",
   "execution_count": 15,
   "metadata": {},
   "outputs": [
    {
     "name": "stdout",
     "output_type": "stream",
     "text": [
      "abcd\n"
     ]
    }
   ],
   "source": [
    "''' 3. Write a Python program to convert a list of characters into a string.\n",
    "        Data:\n",
    "            x = ['a', 'b', 'c', 'd']\n",
    "        Expected Output:\n",
    "            abcd '''\n",
    "\n",
    "x = ['a', 'b', 'c', 'd']\n",
    "result=\"\".join(x)\n",
    "print(result)\n",
    "    \n",
    "\n"
   ]
  },
  {
   "cell_type": "code",
   "execution_count": 25,
   "metadata": {},
   "outputs": [
    {
     "name": "stdout",
     "output_type": "stream",
     "text": [
      "Index of 4 is 2\n"
     ]
    }
   ],
   "source": [
    "#''' 4. Write a Python program to find the index of specified item in a list.\n",
    "    #    Data:\n",
    "       #     x = [10, 30, 4, -6]\n",
    "       # Expected Output:\n",
    "        #    Index of 4 is 2 ''')\n",
    "\n",
    "x = [10, 30, 4, -6]\n",
    "print(\"Index of {} is {}\".format(x[2], x.index(4)))"
   ]
  },
  {
   "cell_type": "code",
   "execution_count": 29,
   "metadata": {},
   "outputs": [
    {
     "name": "stdout",
     "output_type": "stream",
     "text": [
      "sum is: -5\n"
     ]
    }
   ],
   "source": [
    "''' 5. Write a Python program to print the sum of all the items in a list.\n",
    "    Data:\n",
    "        lt = [1, 2, -8]\n",
    "    Expected Output:\n",
    "        sum is -5 '''\n",
    "lt = [1, 2, -8]\n",
    "sum=0\n",
    "for i in lt:\n",
    "    sum=sum+i\n",
    "\n",
    "print(\"sum is:\",sum)\n",
    "        \n"
   ]
  },
  {
   "cell_type": "code",
   "execution_count": 32,
   "metadata": {},
   "outputs": [
    {
     "name": "stdout",
     "output_type": "stream",
     "text": [
      "-16\n"
     ]
    }
   ],
   "source": [
    "''' 6. Write a Python program to multiply all the items in a list.\n",
    "        Data:\n",
    "            [1, 2, -8]\n",
    "        Expected Output:\n",
    "            -16 '''\n",
    "\n",
    "list=[1, 2, -8,]\n",
    "result=1\n",
    "for i in list:\n",
    "    result=result*i\n",
    "\n",
    "print(result)\n",
    "    \n"
   ]
  },
  {
   "cell_type": "code",
   "execution_count": 46,
   "metadata": {},
   "outputs": [
    {
     "name": "stdout",
     "output_type": "stream",
     "text": [
      "2\n"
     ]
    }
   ],
   "source": [
    "''' 7. Write a Python program to get the largest number from a list.\n",
    "        Data:\n",
    "            [1, 2, -8, 0]\n",
    "        Expected Output:\n",
    "            2 '''\n",
    "list=[1, 2, -8, 0]\n",
    "biggest=list[0]\n",
    "for i in list[1:]:\n",
    "    if i>biggest:\n",
    "        biggest=i\n",
    "print(biggest)\n",
    "\n"
   ]
  },
  {
   "cell_type": "code",
   "execution_count": 47,
   "metadata": {},
   "outputs": [
    {
     "name": "stdout",
     "output_type": "stream",
     "text": [
      "-8\n"
     ]
    }
   ],
   "source": [
    "''' 8. Write a Python program to get the smallest number from a list. \n",
    "        Data:\n",
    "            [1, 2, -8, 0]\n",
    "        Expected Output:\n",
    "            -8 '''\n",
    "list1=[1, 2, -8, 0]\n",
    "smallest=list[0]\n",
    "for i in list[1:]:\n",
    "    if i<smallest:\n",
    "        smallest=i\n",
    "print(smallest)\n",
    "\n",
    "\n"
   ]
  },
  {
   "cell_type": "code",
   "execution_count": 50,
   "metadata": {},
   "outputs": [
    {
     "name": "stdout",
     "output_type": "stream",
     "text": [
      "[10, 20, 30, 50, 60, 40, 80]\n"
     ]
    }
   ],
   "source": [
    "''' 9. Write a Python program to remove duplicate items from a list.\n",
    "        Data:\n",
    "            a = [10,20,30,20,10,50,60,40,80,50,40]\n",
    "        Expected Output:\n",
    "            [10, 20, 30, 50, 60, 40, 80] '''\n",
    "a = [10,20,30,20,10,50,60,40,80,50,40]\n",
    "b=[]\n",
    "for i in a:\n",
    "    if i not in b:\n",
    "        b.append(i)\n",
    "print(b)"
   ]
  },
  {
   "cell_type": "code",
   "execution_count": 56,
   "metadata": {},
   "outputs": [
    {
     "name": "stdout",
     "output_type": "stream",
     "text": [
      "X - [10, 22, 44, 23, 4]\n",
      "Y - [10, 22, 44, 23, 4]\n"
     ]
    }
   ],
   "source": [
    "''' 10. Write a Python program to clone or copy a list.\n",
    "        Data:\n",
    "            x = [10, 22, 44, 23, 4]\n",
    "        Expected Output:\n",
    "            X - [10, 22, 44, 23, 4]\n",
    "            Y - [10, 22, 44, 23, 4] '''\n",
    "\n",
    "x = [10, 22, 44, 23, 4]\n",
    "y=x.copy()\n",
    "print(\"X -\",x)\n",
    "print(\"Y -\",y)\n"
   ]
  },
  {
   "cell_type": "code",
   "execution_count": 94,
   "metadata": {},
   "outputs": [
    {
     "name": "stdout",
     "output_type": "stream",
     "text": [
      "(1, 2, 3, 4, 5)\n"
     ]
    },
    {
     "ename": "TypeError",
     "evalue": "'list' object is not callable",
     "output_type": "error",
     "traceback": [
      "\u001b[1;31m---------------------------------------------------------------------------\u001b[0m",
      "\u001b[1;31mTypeError\u001b[0m                                 Traceback (most recent call last)",
      "Cell \u001b[1;32mIn[94], line 11\u001b[0m\n\u001b[0;32m      9\u001b[0m x\u001b[38;5;241m=\u001b[39m(\u001b[38;5;241m1\u001b[39m, \u001b[38;5;241m2\u001b[39m, \u001b[38;5;241m3\u001b[39m, \u001b[38;5;241m4\u001b[39m, \u001b[38;5;241m5\u001b[39m)\n\u001b[0;32m     10\u001b[0m \u001b[38;5;28mprint\u001b[39m(x)\n\u001b[1;32m---> 11\u001b[0m \u001b[38;5;28mprint\u001b[39m(\u001b[38;5;28mlist\u001b[39m(x))\n",
      "\u001b[1;31mTypeError\u001b[0m: 'list' object is not callable"
     ]
    }
   ],
   "source": [
    "#''' 11. Write a Python program to convert a tuple into a List.\n",
    " #       Data:\n",
    "#            x = (1,2,3,4,5)\n",
    "#        Expected Output:\n",
    "#            (1, 2, 3, 4, 5)\n",
    "#           [1, 2, 3, 4, 5] '''\n",
    "\n",
    "\n",
    "x=(1, 2, 3, 4, 5)\n",
    "print(x)\n",
    "print(list(x))\n",
    "\n",
    "\n"
   ]
  },
  {
   "cell_type": "code",
   "execution_count": 74,
   "metadata": {},
   "outputs": [
    {
     "name": "stdout",
     "output_type": "stream",
     "text": [
      "[7, 25, 27]\n"
     ]
    }
   ],
   "source": [
    "''' 12. Write a Python program to print the numbers of a specified list after removing even numbers from it.\n",
    "        Data:\n",
    "            x = [7, 8, 120, 25, 44, 20, 27]\n",
    "        Expected Output:\n",
    "            [7, 25, 27] '''\n",
    "x=[7, 8, 120, 25, 44, 20, 27]\n",
    "y=[]\n",
    "for i in x:\n",
    "    if i%2==1:\n",
    "        y.append(i)\n",
    "        \n",
    "print(y)\n",
    "        \n",
    "\n"
   ]
  },
  {
   "cell_type": "code",
   "execution_count": 113,
   "metadata": {},
   "outputs": [
    {
     "ename": "TypeError",
     "evalue": "'set' object is not callable",
     "output_type": "error",
     "traceback": [
      "\u001b[1;31m---------------------------------------------------------------------------\u001b[0m",
      "\u001b[1;31mTypeError\u001b[0m                                 Traceback (most recent call last)",
      "Cell \u001b[1;32mIn[113], line 7\u001b[0m\n\u001b[0;32m      1\u001b[0m \u001b[38;5;124;03m''' 13. Write a Python program to shuffle and print a specified list. \u001b[39;00m\n\u001b[0;32m      2\u001b[0m \u001b[38;5;124;03m        Data:\u001b[39;00m\n\u001b[0;32m      3\u001b[0m \u001b[38;5;124;03m            x = ['Red', 'Green', 'White', 'Black', 'Pink', 'Yellow']\u001b[39;00m\n\u001b[0;32m      4\u001b[0m \u001b[38;5;124;03m        Expected Output:\u001b[39;00m\n\u001b[0;32m      5\u001b[0m \u001b[38;5;124;03m            ['Pink', 'Black', 'Red', 'Yellow', 'White', 'Green'] '''\u001b[39;00m\n\u001b[0;32m      6\u001b[0m x \u001b[38;5;241m=\u001b[39m [\u001b[38;5;124m'\u001b[39m\u001b[38;5;124mRed\u001b[39m\u001b[38;5;124m'\u001b[39m, \u001b[38;5;124m'\u001b[39m\u001b[38;5;124mGreen\u001b[39m\u001b[38;5;124m'\u001b[39m, \u001b[38;5;124m'\u001b[39m\u001b[38;5;124mWhite\u001b[39m\u001b[38;5;124m'\u001b[39m, \u001b[38;5;124m'\u001b[39m\u001b[38;5;124mBlack\u001b[39m\u001b[38;5;124m'\u001b[39m, \u001b[38;5;124m'\u001b[39m\u001b[38;5;124mPink\u001b[39m\u001b[38;5;124m'\u001b[39m, \u001b[38;5;124m'\u001b[39m\u001b[38;5;124mYellow\u001b[39m\u001b[38;5;124m'\u001b[39m]\n\u001b[1;32m----> 7\u001b[0m y\u001b[38;5;241m=\u001b[39m\u001b[38;5;28mset\u001b[39m(x)\n\u001b[0;32m      8\u001b[0m z\u001b[38;5;241m=\u001b[39m \u001b[38;5;28mlist\u001b[39m(y)\n\u001b[0;32m      9\u001b[0m \u001b[38;5;28mprint\u001b[39m(z)\n",
      "\u001b[1;31mTypeError\u001b[0m: 'set' object is not callable"
     ]
    }
   ],
   "source": [
    "''' 13. Write a Python program to shuffle and print a specified list. \n",
    "        Data:\n",
    "            x = ['Red', 'Green', 'White', 'Black', 'Pink', 'Yellow']\n",
    "        Expected Output:\n",
    "            ['Pink', 'Black', 'Red', 'Yellow', 'White', 'Green'] '''\n",
    "x = ['Red', 'Green', 'White', 'Black', 'Pink', 'Yellow']\n",
    "y=set(x)\n",
    "z= list(y)\n",
    "print(z)\n"
   ]
  },
  {
   "cell_type": "code",
   "execution_count": 108,
   "metadata": {},
   "outputs": [
    {
     "name": "stdout",
     "output_type": "stream",
     "text": [
      "[1, 2, 3, 0, 'Red', 'Green', 'Black']\n"
     ]
    }
   ],
   "source": [
    "''' 14. Write a Python program to append the second list to the first list.\n",
    "        Data:\n",
    "            x = [1, 2, 3, 0]\n",
    "            y = ['Red', 'Green', 'Black']\n",
    "        Expected Output:\n",
    "            [1, 2, 3, 0, 'Red', 'Green', 'Black'] '''\n",
    "x = [1, 2, 3, 0]\n",
    "y = ['Red', 'Green', 'Black']\n",
    "z=x+y\n",
    "print(z)\n"
   ]
  },
  {
   "cell_type": "code",
   "execution_count": 107,
   "metadata": {},
   "outputs": [
    {
     "name": "stdout",
     "output_type": "stream",
     "text": [
      "White\n"
     ]
    }
   ],
   "source": [
    "''' 15. Write a Python program to select an item randomly from a list.\n",
    "        Data:\n",
    "            x = ['Red', 'Blue', 'Green', 'White', 'Black']\n",
    "        Expected Output:\n",
    "            White '''\n",
    "x = ['Red', 'Blue', 'Green', 'White', 'Black']\n",
    "print(x[3])\n",
    "\n",
    "\n"
   ]
  },
  {
   "cell_type": "code",
   "execution_count": 106,
   "metadata": {},
   "outputs": [
    {
     "name": "stdout",
     "output_type": "stream",
     "text": [
      "[10, 20, 30, 40, 50, 60]\n"
     ]
    }
   ],
   "source": [
    "''' 16. Write a Python program to get unique values from a list.\n",
    "        Data:\n",
    "            Original List :  [10, 20, 30, 40, 20, 50, 60, 40]\n",
    "        Expected Output:\n",
    "            List of unique numbers :  [40, 10, 50, 20, 60, 30] '''\n",
    "l1=[10, 20, 30, 40, 20, 50, 60, 40]\n",
    "l2=[]\n",
    "for i in l1:\n",
    "    if i not in l2:\n",
    "        l2.append(i)\n",
    "print(l2)\n",
    "\n"
   ]
  },
  {
   "cell_type": "code",
   "execution_count": 105,
   "metadata": {},
   "outputs": [
    {
     "name": "stdout",
     "output_type": "stream",
     "text": [
      "7ff9795b3270\n",
      "7ff9796938f8\n"
     ]
    }
   ],
   "source": [
    "''' 17. Write a Python program to get variable unique identification number or string.\n",
    "        Data:\n",
    "            var1 = 'Python'\n",
    "            var2 = 123\n",
    "        Expected Output:\n",
    "            186756869b0\n",
    "            7ffea3a83660 '''\n",
    "var1='Python'\n",
    "var2=123\n",
    "\n",
    "print(hex(id(var1))[2:])\n",
    "print(hex(id(var2))[2:])\n"
   ]
  },
  {
   "cell_type": "code",
   "execution_count": 101,
   "metadata": {},
   "outputs": [
    {
     "name": "stdout",
     "output_type": "stream",
     "text": [
      "['Green', 'White']\n"
     ]
    }
   ],
   "source": [
    "''' 18. Write a Python program to print common elements from two lists using set().\n",
    "        Data:\n",
    "            x = (\"Red\", \"Green\", \"Orange\", \"White\")\n",
    "            y = (\"Black\", \"Green\", \"White\", \"Pink\")\n",
    "        Expected Output:\n",
    "            {'White', 'Green'} '''\n",
    "x = (\"Red\", \"Green\", \"Orange\", \"White\")\n",
    "y = (\"Black\", \"Green\", \"White\", \"Pink\")\n",
    "z=[]\n",
    "for i in x:\n",
    "    for j in y:\n",
    "        if i==j:\n",
    "            z.append(i)\n",
    "print(z)\n",
    "\n"
   ]
  },
  {
   "cell_type": "code",
   "execution_count": 100,
   "metadata": {},
   "outputs": [
    {
     "name": "stdout",
     "output_type": "stream",
     "text": [
      "112233\n"
     ]
    }
   ],
   "source": [
    "''' 19. Write a Python program to convert a list of multiple integers into a single integer.\n",
    "        Data:\n",
    "            x = [11, 22, 33]\n",
    "        Expected Output:\n",
    "            112233 '''\n",
    "x = [11, 22, 33]\n",
    "result = ''.join(str(num) for num in x)\n",
    "print(result)\n",
    "\n"
   ]
  },
  {
   "cell_type": "code",
   "execution_count": 95,
   "metadata": {},
   "outputs": [
    {
     "name": "stdout",
     "output_type": "stream",
     "text": [
      "{'1': [], '2': [], '3': [], '4': [], '5': [], '6': [], '7': [], '8': [], '9': []}\n"
     ]
    }
   ],
   "source": [
    "''' 20. Write a Python program to create multiple lists.\n",
    "        Data:\n",
    "            x = {}\n",
    "        Expected Output:\n",
    "            {'1': [], '2': [], '3': [], '4': [], '5': [], '6': [], '7': [], '8': [], '9': []} '''\n",
    "x = {}\n",
    "for i in range(1, 10):\n",
    "    x[str(i)] = []\n",
    "print(x)\n",
    "        \n"
   ]
  },
  {
   "cell_type": "code",
   "execution_count": null,
   "metadata": {},
   "outputs": [],
   "source": []
  }
 ],
 "metadata": {
  "kernelspec": {
   "display_name": "Python 3 (ipykernel)",
   "language": "python",
   "name": "python3"
  },
  "language_info": {
   "codemirror_mode": {
    "name": "ipython",
    "version": 3
   },
   "file_extension": ".py",
   "mimetype": "text/x-python",
   "name": "python",
   "nbconvert_exporter": "python",
   "pygments_lexer": "ipython3",
   "version": "3.12.7"
  }
 },
 "nbformat": 4,
 "nbformat_minor": 4
}
