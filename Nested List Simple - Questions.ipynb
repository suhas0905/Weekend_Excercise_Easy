{
 "cells": [
  {
   "cell_type": "markdown",
   "metadata": {},
   "source": [
    "# Nested List Simple Questions"
   ]
  },
  {
   "cell_type": "code",
   "execution_count": 2,
   "metadata": {},
   "outputs": [
    {
     "name": "stdout",
     "output_type": "stream",
     "text": [
      "['a', ['b', ['c', 'd'], 'e', 'f'], 'g', 'h']\n"
     ]
    }
   ],
   "source": [
    "'''1. Write a python program to create and print a simple nested list.\n",
    "    Data:\n",
    "        X = ['a', ['b', ['c', 'd'], 'e', 'f'], 'g', 'h']\n",
    "    Expected Output:\n",
    "        ['a', ['b', ['c', 'd'], 'e', 'f'], 'g', 'h'] '''\n",
    "\n",
    "X = ['a', ['b', ['c', 'd'], 'e', 'f'], 'g', 'h']\n",
    "print(X)\n",
    "        \n",
    "        \n",
    "        \n",
    "        "
   ]
  },
  {
   "cell_type": "code",
   "execution_count": 5,
   "metadata": {},
   "outputs": [
    {
     "name": "stdout",
     "output_type": "stream",
     "text": [
      "['c', 'd', ['e', 'f']]\n",
      "['e', 'f']\n",
      "e\n"
     ]
    }
   ],
   "source": [
    "'''2. Write a python program to print the elements in a given nested list using its indices.\n",
    "    Data:\n",
    "        L = ['a', 'b', ['c', 'd', ['e', 'f']], 'g', 'h']\n",
    "    Expected Output:\n",
    "        ['c', 'd', ['e', 'f']]\n",
    "        ['e', 'f']\n",
    "        e '''\n",
    "L = ['a', 'b', ['c', 'd', ['e', 'f']], 'g', 'h']\n",
    "print(L[2])\n",
    "print(L[2][2])\n",
    "print(L[2][2][0])\n",
    "\n",
    "        \n",
    "        \n",
    "        \n",
    "        "
   ]
  },
  {
   "cell_type": "code",
   "execution_count": 7,
   "metadata": {},
   "outputs": [
    {
     "name": "stdout",
     "output_type": "stream",
     "text": [
      "['3', '4', ['5', '6']]\n",
      "['5', '6']\n",
      "5\n"
     ]
    }
   ],
   "source": [
    "'''3. Write a python program to print the elements in a given nested list using its negative indices.\n",
    "    Data:\n",
    "        L = ['1', '2', ['3', '4', ['5', '6']], '7', '8']\n",
    "    Expected Output:\n",
    "        ['3', '4', ['5', '6']]\n",
    "        ['5', '6']\n",
    "        5 '''\n",
    "L = ['1', '2', ['3', '4', ['5', '6']], '7', '8']\n",
    "print(L[2])\n",
    "print(L[2][2])\n",
    "print(L[2][2][0])\n",
    "  \n",
    "        \n",
    "        \n",
    "        "
   ]
  },
  {
   "cell_type": "code",
   "execution_count": 8,
   "metadata": {},
   "outputs": [
    {
     "name": "stdout",
     "output_type": "stream",
     "text": [
      "['12', ['45', 0], '89']\n"
     ]
    }
   ],
   "source": [
    "'''4. Write a python program to change the value of a specific item in a nested list by referring its index number.\n",
    "    Data:\n",
    "        X = ['12', ['45', '23'], '89']\n",
    "    Expected Output:\n",
    "        ['12', ['45', 0], '89'] '''\n",
    "\n",
    "X = ['12', ['45', '23'], '89']\n",
    "X[1][1]=0\n",
    "print(X)\n",
    "        \n",
    "        \n",
    "        \n",
    "        "
   ]
  },
  {
   "cell_type": "code",
   "execution_count": 15,
   "metadata": {},
   "outputs": [
    {
     "name": "stdout",
     "output_type": "stream",
     "text": [
      "['a', ['b', 'c', 'xx'], 'd']\n"
     ]
    }
   ],
   "source": [
    "'''5. Write a python program to add a new value at the end of the nested list, using append() method.\n",
    "    Data:\n",
    "        X = ['a', ['b', 'c'], 'd']\n",
    "    Expected Output:\n",
    "        ['a', ['b', 'c', 'xx'], 'd'] '''\n",
    "\n",
    "X = ['a', ['b', 'c'], 'd']\n",
    "X[1].append(\"xx\")\n",
    "print(X)\n",
    "\n",
    "\n",
    "        \n",
    "        \n",
    "        "
   ]
  },
  {
   "cell_type": "code",
   "execution_count": 18,
   "metadata": {},
   "outputs": [
    {
     "name": "stdout",
     "output_type": "stream",
     "text": [
      "['123', ['555', '567', '346'], '678']\n"
     ]
    }
   ],
   "source": [
    "'''6. Write a python program to insert an item at a specific position in a nested list, using insert() method.\n",
    "    Data:\n",
    "        X = ['123', ['567', '346'], '678']\n",
    "    Expected Output:\n",
    "        ['123', ['555', '567', '346'], '678'] '''\n",
    "\n",
    "X=['123', ['567', '346'], '678']\n",
    "X[1].insert(0,\"555\")\n",
    "print(X)\n",
    "        \n",
    "        \n",
    "        "
   ]
  },
  {
   "cell_type": "code",
   "execution_count": 19,
   "metadata": {},
   "outputs": [
    {
     "name": "stdout",
     "output_type": "stream",
     "text": [
      "['boss', ['suresh', 'kumar', 'dinesh'], 'siva']\n"
     ]
    }
   ],
   "source": [
    "'''7. Write a python program to merge one list with an another list, using extend() method.\n",
    "    Data:\n",
    "        X = ['boss', ['suresh', 'kumar'], 'siva']\n",
    "    Expected Output:\n",
    "        ['boss', ['suresh', 'kumar', 'dinesh'], 'siva'] '''\n",
    "\n",
    "X = ['boss', ['suresh', 'kumar'], 'siva']\n",
    "X[1].extend(['dinesh'])\n",
    "print(X)\n",
    "\n",
    "        \n",
    "        \n",
    "        \n",
    "        "
   ]
  },
  {
   "cell_type": "code",
   "execution_count": 25,
   "metadata": {},
   "outputs": [
    {
     "name": "stdout",
     "output_type": "stream",
     "text": [
      "['a', ['b', 'd'], 'e']\n",
      "c\n"
     ]
    }
   ],
   "source": [
    "'''8. Write a python program to remove an item from a nested list using pop() method. \n",
    "    Data:\n",
    "        L = ['a', ['b', 'c', 'd'], 'e']\n",
    "    Expected Output:\n",
    "        ['a', ['b', 'd'], 'e']\n",
    "        c '''\n",
    "L = ['a', ['b', 'c', 'd'], 'e']\n",
    "result=L[1].pop(1)\n",
    "print(L)\n",
    "print(result)\n",
    "\n",
    "\n",
    "        \n",
    "        \n",
    "        "
   ]
  },
  {
   "cell_type": "markdown",
   "metadata": {
    "jp-MarkdownHeadingCollapsed": true
   },
   "source": [
    "'''# 9. Write a python program to remove an item from a nested list using remove() method. \n",
    "    Data:\n",
    "        L = ['a', ['b', 'c', 'd'], 'e']\n",
    "    Expected Output:\n",
    "        ['a', ['b', 'd'], 'e'] '''\n",
    "\n",
    "L = ['a', ['b', 'c', 'd'], 'e']\n",
    "L[1].remove(\"c')\n",
    "print(L)\n",
    "\n",
    "        \n",
    "        \n",
    "        \n",
    "        "
   ]
  },
  {
   "cell_type": "code",
   "execution_count": 39,
   "metadata": {},
   "outputs": [
    {
     "name": "stdout",
     "output_type": "stream",
     "text": [
      "3\n",
      "2\n"
     ]
    }
   ],
   "source": [
    "'''10. Write a python program to print the length of a nested list and a sublist in a nested list.\n",
    "    Data:\n",
    "        X = ['34', ['56', '24'], '45']\n",
    "    Expected Output:\n",
    "        3\n",
    "        2 '''\n",
    "        \n",
    "X = ['34', ['56', '24'], '45']\n",
    "print(len(X))\n",
    "print(len(X[1]))\n",
    "\n",
    "        \n",
    "        \n",
    "        "
   ]
  },
  {
   "cell_type": "code",
   "execution_count": 28,
   "metadata": {},
   "outputs": [
    {
     "name": "stdout",
     "output_type": "stream",
     "text": [
      "['a', ['b', 'd'], 'e']\n"
     ]
    }
   ],
   "source": [
    "L = ['a', ['b', 'c', 'd'], 'e']\n",
    "L[1].remove(\"c\")\n",
    "print(L)"
   ]
  },
  {
   "cell_type": "code",
   "execution_count": 42,
   "metadata": {},
   "outputs": [
    {
     "name": "stdout",
     "output_type": "stream",
     "text": [
      "1 2 3 4 5 6 7 8 9 "
     ]
    }
   ],
   "source": [
    "'''11. Write a python program to iterate over the items of a nested list, using for loop.\n",
    "    Data:\n",
    "        X = [[1, 2, 3],[4, 5, 6],[7, 8, 9]] \n",
    "    Expected Output:\n",
    "        1 2 3 4 5 6 7 8 9 '''\n",
    "X = [[1, 2, 3],[4, 5, 6],[7, 8, 9]] \n",
    "for i in X:\n",
    "    for j in i:\n",
    "        print(j,end=\" \")\n",
    "\n",
    "\n",
    "        \n",
    "        \n",
    "        \n",
    "        "
   ]
  },
  {
   "cell_type": "code",
   "execution_count": null,
   "metadata": {},
   "outputs": [],
   "source": []
  }
 ],
 "metadata": {
  "kernelspec": {
   "display_name": "Python 3 (ipykernel)",
   "language": "python",
   "name": "python3"
  },
  "language_info": {
   "codemirror_mode": {
    "name": "ipython",
    "version": 3
   },
   "file_extension": ".py",
   "mimetype": "text/x-python",
   "name": "python",
   "nbconvert_exporter": "python",
   "pygments_lexer": "ipython3",
   "version": "3.12.7"
  }
 },
 "nbformat": 4,
 "nbformat_minor": 4
}
