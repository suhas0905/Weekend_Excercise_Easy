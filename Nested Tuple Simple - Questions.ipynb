{
 "cells": [
  {
   "cell_type": "markdown",
   "metadata": {},
   "source": [
    "# Nested Tuple Simple Questions"
   ]
  },
  {
   "cell_type": "code",
   "execution_count": 1,
   "metadata": {},
   "outputs": [
    {
     "name": "stdout",
     "output_type": "stream",
     "text": [
      "('Boss', [8, 4, 6], (1, 2, 3))\n"
     ]
    }
   ],
   "source": [
    "'''1. Write a Python program to create a simple nested tuple.\n",
    "    Data:\n",
    "        x = (\"Boss\", [8, 4, 6], (1, 2, 3)) \n",
    "    Expected Output:\n",
    "        ('Boss', [8, 4, 6], (1, 2, 3)) '''\n",
    "\n",
    "\n",
    "x = (\"Boss\", [8, 4, 6], (1, 2, 3)) \n",
    "print(x)\n",
    "\n",
    "        \n",
    "        \n",
    "        \n",
    "        "
   ]
  },
  {
   "cell_type": "code",
   "execution_count": 2,
   "metadata": {},
   "outputs": [
    {
     "name": "stdout",
     "output_type": "stream",
     "text": [
      "{'w': 2, 'r': 3}\n"
     ]
    }
   ],
   "source": [
    "'''2. Write a Python program to convert a nested tuple into a dictionary.\n",
    "    Data:\n",
    "        x = ((2, \"w\"),(3, \"r\"))\n",
    "    Expected Output:\n",
    "        {'w': 2, 'r': 3} '''\n",
    "x = ((2, \"w\"),(3, \"r\"))\n",
    "result={letter:number for number,letter in x}\n",
    "print(result)\n",
    "        \n",
    "        \n",
    "        \n",
    "        \n",
    "        "
   ]
  },
  {
   "cell_type": "code",
   "execution_count": 6,
   "metadata": {},
   "outputs": [
    {
     "name": "stdout",
     "output_type": "stream",
     "text": [
      "(1, [9, 8, 77], 'boss')\n"
     ]
    }
   ],
   "source": [
    "'''3. Write a Python program to update the element in a given nested tuple.\n",
    "    Data:\n",
    "        x = ((1), [9, 8, 7], (\"boss\"))\n",
    "    Expected Output:\n",
    "        (1, [9, 8, 77], 'boss') '''\n",
    "\n",
    "x = ((1), [9, 8, 7], (\"boss\"))\n",
    "y=list(x)\n",
    "y[1][2]=77\n",
    "print(tuple(y))\n",
    "\n",
    "        \n",
    "        \n",
    "        \n",
    "        "
   ]
  },
  {
   "cell_type": "code",
   "execution_count": 8,
   "metadata": {},
   "outputs": [
    {
     "name": "stdout",
     "output_type": "stream",
     "text": [
      "('a', ('b', 'c'), 'd', ('e', 'f'))\n",
      "4\n"
     ]
    }
   ],
   "source": [
    "'''4. Write a Python program to find the length of the given nested tuple.\n",
    "    Data:\n",
    "        L = (\"a\",(\"b\",\"c\"),\"d\",(\"e\",\"f\"))\n",
    "    Expected Output:\n",
    "        ('a', ('b', 'c'), 'd', ('e', 'f'))\n",
    "        4 '''\n",
    "L = (\"a\",(\"b\",\"c\"),\"d\",(\"e\",\"f\"))\n",
    "print(L)\n",
    "print(len(L))\n"
   ]
  },
  {
   "cell_type": "code",
   "execution_count": 9,
   "metadata": {},
   "outputs": [
    {
     "name": "stdout",
     "output_type": "stream",
     "text": [
      "('A', (1, 2), 'B', ('a', 'b'))\n",
      "Length of nested tuple is: 4\n"
     ]
    }
   ],
   "source": [
    "'''5. Write a Python program to create a nested tuple by using the given tuples.\n",
    "    Data:\n",
    "        t1 = (1,2)\n",
    "        t2 = ('a','b')\n",
    "        t3 = ('A','B')\n",
    "    Expected Output:\n",
    "        Create/print nested tuple\n",
    "        ('A', (1, 2), 'B', ('a', 'b'))\n",
    "        Length of nested tuple is:\n",
    "        4 '''\n",
    "t1 = (1, 2)\n",
    "t2 = ('a', 'b')  \n",
    "t3 = ('A', 'B')\n",
    "\n",
    "nested_tuple = (t3[0], t1, t3[1], t2)\n",
    "print(nested_tuple)\n",
    "print(\"Length of nested tuple is:\",len(nested_tuple))\n",
    "\n",
    "\n"
   ]
  },
  {
   "cell_type": "code",
   "execution_count": 15,
   "metadata": {},
   "outputs": [
    {
     "name": "stdout",
     "output_type": "stream",
     "text": [
      "('a', 'a')\n",
      "Contains a\n"
     ]
    }
   ],
   "source": [
    "''' 6. Write a Python script that illustrates the use of multiple square-bracket indexing to access and display an item in a \n",
    "   nested tuple.\n",
    "    Data:\n",
    "        t1 = (\"a\",)\n",
    "        t2 = (t1*2)\n",
    "    Expected Output:\n",
    "        ('a', 'a')\n",
    "        Contains a '''\n",
    "        \n",
    "t1 = (\"a\",)\n",
    "t2 = t1 * 2  \n",
    "print(t2)\n",
    "if t2[0] == 'a':\n",
    "    print(\"Contains a\")  \n",
    "        \n",
    "        "
   ]
  },
  {
   "cell_type": "code",
   "execution_count": 14,
   "metadata": {},
   "outputs": [
    {
     "name": "stdout",
     "output_type": "stream",
     "text": [
      "7\n"
     ]
    }
   ],
   "source": [
    "'''7. Write a python program to find the length of the given nested tuple including the elements inside the tuple of tuples.\n",
    "    Data:\n",
    "        t1 =(1,(4,(7,8,9),6),3)\n",
    "    Expected Output:\n",
    "        9 '''\n",
    "def count_elements(t):\n",
    "    count = 0\n",
    "    for item in t:\n",
    "        if isinstance(item, tuple):\n",
    "            count += count_elements(item)\n",
    "        else:\n",
    "            count += 1\n",
    "    return count\n",
    "\n",
    "t1 = (1, (4, (7, 8, 9), 6), 3)\n",
    "print(count_elements(t1))\n",
    "        \n",
    "        \n",
    "        "
   ]
  },
  {
   "cell_type": "code",
   "execution_count": 16,
   "metadata": {},
   "outputs": [
    {
     "name": "stdout",
     "output_type": "stream",
     "text": [
      "The original tuple : ((4, 'Sara'), (3, 'Shar'), (6, 'Sid'))\n",
      "The converted dictionary : [{'key': 4, 'value': 'Sara'}, {'key': 3, 'value': 'Shar'}, {'key': 6, 'value': 'Sid'}]\n"
     ]
    }
   ],
   "source": [
    "'''8. Write a Python program to convert a nested tuple into a dictionary.\n",
    "    Data:\n",
    "        t = ((4, 'Sara'), (3, 'Shar'), (6, 'Sid'))\n",
    "    Expected Output:\n",
    "        The original tuple : ((4, 'Sara'), (3, 'Shar'), (6, 'Sid'))\n",
    "        The converted dictionary : [{'key': 4, 'value': 'Sara'}, {'key': 3, 'value': 'Shar'}, {'key': 6, 'value': 'Sid'}] '''\n",
    "        \n",
    "t = ((4, 'Sara'), (3, 'Shar'), (6, 'Sid'))\n",
    "print(\"The original tuple :\", t)\n",
    "converted = [{'key': k, 'value': v} for k, v in t]\n",
    "print(\"The converted dictionary :\", converted)      \n",
    "        \n",
    "        "
   ]
  },
  {
   "cell_type": "code",
   "execution_count": 11,
   "metadata": {},
   "outputs": [
    {
     "name": "stdout",
     "output_type": "stream",
     "text": [
      "Original list is : [('Sara', 1), ('Shar', 2), ('Sid', 3), ('Shwe', 4)]\n",
      "Modified list is : [['Sara', 'Shar', 'Sid', 'Shwe'], [1, 2, 3, 4]]\n"
     ]
    }
   ],
   "source": [
    "'''9. Write a Python program to unzip a list of nested tuples into individual lists.\n",
    "    Data:\n",
    "        l = [('Sara', 1), ('Shar', 2), ('Sid', 3), ('Shwe', 4)]\n",
    "    Expected Output:\n",
    "        Original list is : [('Sara', 1), ('Shar', 2), ('Sid', 3), ('Shwe', 4)]\n",
    "        Modified list is : [['Sara', 'Shar', 'Sid', 'Shwe'], [1, 2, 3, 4]] '''\n",
    "\n",
    "l = [('Sara', 1), ('Shar', 2), ('Sid', 3), ('Shwe', 4)]\n",
    "\n",
    "print(\"Original list is :\", l)\n",
    "\n",
    "unzipped = list(zip(*l))\n",
    "modified_list = [list(group) for group in unzipped]\n",
    "\n",
    "print(\"Modified list is :\", modified_list)\n",
    "        \n",
    "        \n",
    "        \n",
    "        "
   ]
  },
  {
   "cell_type": "code",
   "execution_count": 10,
   "metadata": {},
   "outputs": [
    {
     "name": "stdout",
     "output_type": "stream",
     "text": [
      "[(10, 20, 100), (40, 50, 100), (70, 80, 100)]\n"
     ]
    }
   ],
   "source": [
    "'''10. Write a Python program to replace the last value of each tuples in a nested tuple. \n",
    "    Data:\n",
    "        ((10, 20, 40), (40, 50, 60), (70, 80, 90))\n",
    "    Expected Output:\n",
    "        [(10, 20, 100), (40, 50, 100), (70, 80, 100)] '''\n",
    "\n",
    "data = ((10, 20, 40), (40, 50, 60), (70, 80, 90))\n",
    "result = [t[:-1] + (100,) for t in data]\n",
    "print(result)        \n",
    "        \n",
    "        \n",
    "        "
   ]
  },
  {
   "cell_type": "code",
   "execution_count": null,
   "metadata": {},
   "outputs": [],
   "source": []
  }
 ],
 "metadata": {
  "kernelspec": {
   "display_name": "Python 3 (ipykernel)",
   "language": "python",
   "name": "python3"
  },
  "language_info": {
   "codemirror_mode": {
    "name": "ipython",
    "version": 3
   },
   "file_extension": ".py",
   "mimetype": "text/x-python",
   "name": "python",
   "nbconvert_exporter": "python",
   "pygments_lexer": "ipython3",
   "version": "3.12.7"
  }
 },
 "nbformat": 4,
 "nbformat_minor": 4
}
