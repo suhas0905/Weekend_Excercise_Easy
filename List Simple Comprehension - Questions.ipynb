{
 "cells": [
  {
   "cell_type": "markdown",
   "metadata": {},
   "source": [
    "# List Simple Comprehension Questions"
   ]
  },
  {
   "cell_type": "code",
   "execution_count": 6,
   "metadata": {},
   "outputs": [
    {
     "name": "stdout",
     "output_type": "stream",
     "text": [
      "['c', 'o', 'n', 's', 't', 'i', 't', 'u', 'i', 't', 'i', 'o', 'n']\n"
     ]
    }
   ],
   "source": [
    "'''1. Write a Python program to iterate through a string Using List Comprehension.\n",
    "    Data:\n",
    "        s = \"constituition\"\n",
    "    Expected Output:\n",
    "        ['c', 'o', 'n', 's', 't', 'i', 't', 'u', 'i', 't', 'i', 'o', 'n'] '''\n",
    "\n",
    "s = \"constituition\"\n",
    "result = [char for char in s]\n",
    "print(result)\n",
    "        \n",
    "        "
   ]
  },
  {
   "cell_type": "code",
   "execution_count": 9,
   "metadata": {},
   "outputs": [
    {
     "name": "stdout",
     "output_type": "stream",
     "text": [
      "[0, 2, 4, 6, 8, 10, 12, 14, 16, 18, 20]\n"
     ]
    }
   ],
   "source": [
    "'''2. Write a Python program to print the even numbers from 0 to 20 using list Comprehension.\n",
    "    Expected Output:\n",
    "        [0, 2, 4, 6, 8, 10, 12, 14, 16, 18, 20]'''\n",
    "\n",
    "result=[x for x in range(21) if x%2==0]\n",
    "print(result)\n",
    "        \n",
    "        \n",
    "        "
   ]
  },
  {
   "cell_type": "code",
   "execution_count": 11,
   "metadata": {},
   "outputs": [
    {
     "name": "stdout",
     "output_type": "stream",
     "text": [
      "[0, 10, 20, 30, 40, 50, 60, 70, 80, 90, 100]\n"
     ]
    }
   ],
   "source": [
    "'''3. Write a Python program to print the numbers from 0 to 100 which are divisible by 2 or 5 using list Comprehension.\n",
    "    Expected Output:\n",
    "    [0, 10, 20, 30, 40, 50, 60, 70, 80, 90, 100] '''\n",
    "\n",
    "result=[x for x in range(101) if x%2==0 | x%5==0]\n",
    "print(result)\n",
    "    \n",
    "    \n",
    "    "
   ]
  },
  {
   "cell_type": "code",
   "execution_count": 14,
   "metadata": {},
   "outputs": [
    {
     "name": "stdout",
     "output_type": "stream",
     "text": [
      "[[['*', '*', '*', '*', '*', '*', '*', '*', '*'], ['*', '*', '*', '*', '*', '*', '*', '*', '*'], ['*', '*', '*', '*', '*', '*', '*', '*', '*'], ['*', '*', '*', '*', '*', '*', '*', '*', '*'], ['*', '*', '*', '*', '*', '*', '*', '*', '*'], ['*', '*', '*', '*', '*', '*', '*', '*', '*']], [['*', '*', '*', '*', '*', '*', '*', '*', '*'], ['*', '*', '*', '*', '*', '*', '*', '*', '*'], ['*', '*', '*', '*', '*', '*', '*', '*', '*'], ['*', '*', '*', '*', '*', '*', '*', '*', '*'], ['*', '*', '*', '*', '*', '*', '*', '*', '*'], ['*', '*', '*', '*', '*', '*', '*', '*', '*']], [['*', '*', '*', '*', '*', '*', '*', '*', '*'], ['*', '*', '*', '*', '*', '*', '*', '*', '*'], ['*', '*', '*', '*', '*', '*', '*', '*', '*'], ['*', '*', '*', '*', '*', '*', '*', '*', '*'], ['*', '*', '*', '*', '*', '*', '*', '*', '*'], ['*', '*', '*', '*', '*', '*', '*', '*', '*']]]\n"
     ]
    }
   ],
   "source": [
    "'''4. Write a Python program to generate a 3*6*9 3D array whose each element is *. '''\n",
    "\n",
    "array_3d = [[['*' for k in range(9)] for j in range(6)] for i in range(3)]\n",
    "print(array_3d)\n",
    "\n",
    "\n",
    "\n"
   ]
  },
  {
   "cell_type": "code",
   "execution_count": 15,
   "metadata": {},
   "outputs": [
    {
     "name": "stdout",
     "output_type": "stream",
     "text": [
      "[7, 25, 27]\n"
     ]
    }
   ],
   "source": [
    "'''5. Write a Python program to print the numbers of a specified list after removing even numbers from it.\n",
    "    Data:\n",
    "        m = [7, 8, 120, 25, 44, 20, 27]\n",
    "    Expected Output:\n",
    "        [7, 25, 27] '''\n",
    "\n",
    "m = [7, 8, 120, 25, 44, 20, 27]\n",
    "result = [num for num in m if num % 2 != 0]\n",
    "print(result)\n",
    "        \n",
    "        \n",
    "        "
   ]
  },
  {
   "cell_type": "code",
   "execution_count": 16,
   "metadata": {},
   "outputs": [
    {
     "name": "stdout",
     "output_type": "stream",
     "text": [
      "['l1', 'm1', 'l2', 'm2', 'l3', 'm3', 'l4', 'm4']\n"
     ]
    }
   ],
   "source": [
    "'''6. Write a Python program to create a list by concatenating a given list with numbers ranges from 1 to n.\n",
    "    Data:\n",
    "        list : ['l', 'm']\n",
    "        n = 4\n",
    "    Expected Output:\n",
    "        ['l1', 'm1', 'l2', 'm2', 'l3', 'm3', 'l4', 'm4'] '''\n",
    "\n",
    "list = ['l', 'm']\n",
    "n = 4\n",
    "result = [ch + str(i) for i in range(1, n+1) for ch in list]\n",
    "print(result)\n",
    "        \n",
    "        \n",
    "        \n",
    "        "
   ]
  },
  {
   "cell_type": "code",
   "execution_count": 17,
   "metadata": {},
   "outputs": [
    {
     "name": "stdout",
     "output_type": "stream",
     "text": [
      "['c', 'marvel', 'c', 'boss', 'c', 'siva']\n"
     ]
    }
   ],
   "source": [
    "'''7. Write a Python program to insert an element before each element of a list.\n",
    "    Data:\n",
    "        x = ['marvel', 'boss', 'siva']\n",
    "    Expected Output:\n",
    "        ['c', 'marvel', 'c', 'boss', 'c', 'siva'] '''\n",
    "\n",
    "x = ['marvel', 'boss', 'siva']\n",
    "result = [y for item in x for y in ('c', item)]\n",
    "print(result)\n",
    "\n",
    "        \n",
    "        "
   ]
  },
  {
   "cell_type": "code",
   "execution_count": 18,
   "metadata": {},
   "outputs": [
    {
     "name": "stdout",
     "output_type": "stream",
     "text": [
      "['Red']\n",
      "['Green']\n",
      "['Black']\n"
     ]
    }
   ],
   "source": [
    "'''8. Write a Python program to print each list on a new line from a given nested list.\n",
    "    Data:\n",
    "        x = [['Red'], ['Green'], ['Black']]\n",
    "    Expected Output:\n",
    "        ['Red']\n",
    "        ['Green']\n",
    "        ['Black'] '''\n",
    "x = [['Red'], ['Green'], ['Black']]\n",
    "for i in x:\n",
    "    print(i)\n",
    "        \n",
    "        \n",
    "        "
   ]
  },
  {
   "cell_type": "code",
   "execution_count": 19,
   "metadata": {},
   "outputs": [
    {
     "name": "stdout",
     "output_type": "stream",
     "text": [
      "[['a', 'd', 'g', 'j', 'm'], ['b', 'e', 'h', 'k', 'n'], ['c', 'f', 'i', 'l']]\n"
     ]
    }
   ],
   "source": [
    "'''9. Write a Python program to split a list after every nth element.\n",
    "    Data:\n",
    "        list: ['a', 'b', 'c', 'd', 'e', 'f', 'g', 'h', 'i', 'j', 'k', 'l', 'm', 'n']\n",
    "    Expected Output:\n",
    "        [['a', 'd', 'g', 'j', 'm'], ['b', 'e', 'h', 'k', 'n'], ['c', 'f', 'i', 'l'] '''\n",
    "list = ['a', 'b', 'c', 'd', 'e', 'f', 'g', 'h', 'i', 'j', 'k', 'l', 'm', 'n']\n",
    "\n",
    "result = [list[i::3] for i in range(3)]\n",
    "print(result)\n",
    "        \n",
    "        \n",
    "        \n",
    "        "
   ]
  },
  {
   "cell_type": "code",
   "execution_count": 20,
   "metadata": {},
   "outputs": [
    {
     "name": "stdout",
     "output_type": "stream",
     "text": [
      "False\n",
      "True\n"
     ]
    }
   ],
   "source": [
    "'''10. Write a Python program to check whether all elements in a list are equal to the specified string.\n",
    "    Data:\n",
    "        x = [\"green\", \"orange\", \"black\", \"white\"]\n",
    "        y = [\"green\", \"green\", \"green\", \"green\"]\n",
    "    Expected Output:\n",
    "        False\n",
    "        True '''\n",
    "x = [\"green\", \"orange\", \"black\", \"white\"]\n",
    "y = [\"green\", \"green\", \"green\", \"green\"]\n",
    "\n",
    "specified_string = \"green\"\n",
    "\n",
    "print(all(item == specified_string for item in x))  \n",
    "print(all(item == specified_string for item in y))  \n",
    "        \n",
    "        \n",
    "        \n",
    "        "
   ]
  },
  {
   "cell_type": "code",
   "execution_count": 21,
   "metadata": {},
   "outputs": [
    {
     "name": "stdout",
     "output_type": "stream",
     "text": [
      "(6, 0)\n"
     ]
    }
   ],
   "source": [
    "'''11. Write a Python program to find a tuple from the list of tuple whose second value is the smallest.\n",
    "    Data:\n",
    "        x = [(4, 1), (1, 2), (6, 0)]\n",
    "    Expected Output:\n",
    "        (6, 0)    '''\n",
    "x = [(4, 1), (1, 2), (6, 0)]\n",
    "\n",
    "result = min(x, key=lambda t: t[1])\n",
    "print(result)\n",
    "        "
   ]
  },
  {
   "cell_type": "code",
   "execution_count": 22,
   "metadata": {},
   "outputs": [
    {
     "name": "stdout",
     "output_type": "stream",
     "text": [
      "[{}, {}, {}, {}, {}]\n"
     ]
    }
   ],
   "source": [
    "'''12. Write a Python program to create a list of empty dictionaries.\n",
    "    Data:\n",
    "        n = 5\n",
    "    Expected Output:\n",
    "        [{}, {}, {}, {}, {}] '''\n",
    "\n",
    "n = 5\n",
    "result = [{} for i in range(n)]\n",
    "print(result)"
   ]
  },
  {
   "cell_type": "code",
   "execution_count": 23,
   "metadata": {},
   "outputs": [
    {
     "name": "stdout",
     "output_type": "stream",
     "text": [
      "['boss1', 'boss2', 'boss3', 'boss4']\n"
     ]
    }
   ],
   "source": [
    "'''13. Write a Python program to insert a given string at the beginning of all items of a list.  \n",
    "    Data:\n",
    "        list : [1, 2, 3, 4]\n",
    "        string : boss\n",
    "    Expected Output:\n",
    "        ['boss1', 'boss2', 'boss3', 'boss4'] '''\n",
    "\n",
    "lst = [1, 2, 3, 4]\n",
    "string = 'boss'\n",
    "\n",
    "result = [string + str(item) for item in lst]\n",
    "print(result)\n",
    "        \n",
    "        \n",
    "        "
   ]
  },
  {
   "cell_type": "code",
   "execution_count": 26,
   "metadata": {},
   "outputs": [
    {
     "name": "stdout",
     "output_type": "stream",
     "text": [
      "True\n"
     ]
    }
   ],
   "source": [
    "'''14. Write a Python program to check whether all the values in a list are > 200.\n",
    "    Data:\n",
    "        a = [220, 330, 500]\n",
    "    Expected Output:\n",
    "        True '''\n",
    "a = [220, 330, 500]\n",
    "result = all(x > 200 for x in a)\n",
    "print(result)"
   ]
  },
  {
   "cell_type": "code",
   "execution_count": 27,
   "metadata": {},
   "outputs": [
    {
     "name": "stdout",
     "output_type": "stream",
     "text": [
      "True\n",
      "False\n"
     ]
    }
   ],
   "source": [
    "'''15. Write a Python program to check whether all the dictionaries in a list are empty or not.\n",
    "    Data:\n",
    "        x = [{},{},{}]\n",
    "        y = [{1,2},{},{}]   \n",
    "    Expected Output:\n",
    "        True\n",
    "        False '''\n",
    "\n",
    "x = [{},{},{}]\n",
    "y = [{1,2},{},{}]  \n",
    "\n",
    "def all_empty_dicts(lst):\n",
    "    return all(isinstance(item, dict) and not item for item in lst)\n",
    "\n",
    "print(all_empty_dicts(x))  \n",
    "print(all_empty_dicts(y))  \n",
    "        \n",
    "        "
   ]
  },
  {
   "cell_type": "code",
   "execution_count": null,
   "metadata": {},
   "outputs": [],
   "source": [
    "'''16. Write a Python program to print a specified list after removing the 0th, 4th and 5th elements.\n",
    "    Data:\n",
    "        List : ['baskar', 'bala', 'siva', 'sai', 'suresh', 'kumar']\n",
    "    Expected Output:\n",
    "        ['bala', 'siva', 'sai'] '''\n",
    "\n",
    "    \n",
    "    \n",
    "    "
   ]
  },
  {
   "cell_type": "code",
   "execution_count": 5,
   "metadata": {},
   "outputs": [
    {
     "name": "stdout",
     "output_type": "stream",
     "text": [
      "['even', 'odd', 'even', 'odd', 'even', 'odd', 'even', 'odd', 'even', 'odd']\n"
     ]
    }
   ],
   "source": [
    "'''17. Write a Python program to print the odd numbers as 'Odd' and even numbers as 'even' within the range(10).\n",
    "    Expected Output:\n",
    "        ['Even', 'Odd', 'Even', 'Odd', 'Even', 'Odd', 'Even', 'Odd', 'Even', 'Odd']    '''   \n",
    "\n",
    "list=[]\n",
    "for i in range(10):\n",
    "    if i%2==0:\n",
    "        list.append(\"even\")\n",
    "    else:\n",
    "        list.append(\"odd\")\n",
    "\n",
    "print(list)\n",
    "        \n",
    "        \n",
    "        "
   ]
  },
  {
   "cell_type": "code",
   "execution_count": 3,
   "metadata": {},
   "outputs": [
    {
     "name": "stdout",
     "output_type": "stream",
     "text": [
      "[[1, 3, 5, 7], [2, 4, 6, 8]]\n"
     ]
    }
   ],
   "source": [
    "'''18. Write a Python program to combine all the first element of a list of lists into a new list and \n",
    "        all the second element of a list of lists into another list. And print the two new lists as a list of lists.\n",
    "    Data:\n",
    "        x = [[1, 2], [3,4], [5,6], [7,8]]  \n",
    "    Expected Output:\n",
    "        [[1, 3, 5, 7], [2, 4, 6, 8]] '''\n",
    "\n",
    "x = [[1, 2], [3, 4], [5, 6], [7, 8]]\n",
    "\n",
    "first_elements, second_elements = zip(*x)\n",
    "result = [list(first_elements), list(second_elements)]\n",
    "print(result)\n",
    "        \n",
    "        "
   ]
  },
  {
   "cell_type": "code",
   "execution_count": 2,
   "metadata": {},
   "outputs": [
    {
     "name": "stdout",
     "output_type": "stream",
     "text": [
      "[4, 6, 8, 8, 12, 16, 12, 18, 24]\n"
     ]
    }
   ],
   "source": [
    "''' 19. Write a Python program to print following output from given two list.\n",
    "    Data:\n",
    "        a = [-2, -1, 0, 1, 2, 3]\n",
    "        b = [4, 5, 6, 7, 8]\n",
    "    Expected Output:\n",
    "        [4, 6, 8, 8, 12, 16, 12, 18, 24] '''\n",
    "\n",
    "# Question incomplete        \n",
    "\n",
    "a = [-2, -1, 0, 1, 2, 3]\n",
    "b = [4, 5, 6, 7, 8]\n",
    "\n",
    "a_pos = [i for i in a if i > 0]\n",
    "b_even = [j for j in b if j % 2 == 0]\n",
    "\n",
    "result = []\n",
    "for i in a_pos:\n",
    "    for j in b_even:\n",
    "        result.append(i * j)\n",
    "\n",
    "print(result)\n",
    "        "
   ]
  },
  {
   "cell_type": "code",
   "execution_count": 1,
   "metadata": {},
   "outputs": [
    {
     "name": "stdout",
     "output_type": "stream",
     "text": [
      "['yes', 'no', 'idle', 'idle', 'idle']\n"
     ]
    }
   ],
   "source": [
    "'''20. Write a Python program to print 'yes' when value is 1, 'no' when value is 2 and for any other values print 'idle' for the given data.\n",
    "    Data:\n",
    "        l = [1, 2, 3, 4, 5] \n",
    "    Expected Output:\n",
    "        ['yes', 'no', 'idle', 'idle', 'idle']'''\n",
    "l = [1, 2, 3, 4, 5]\n",
    "\n",
    "result = []\n",
    "for i in l:\n",
    "    if i == 1:\n",
    "        result.append('yes')\n",
    "    elif i == 2:\n",
    "        result.append('no')\n",
    "    else:\n",
    "        result.append('idle')\n",
    "\n",
    "print(result)\n",
    "        \n",
    "        \n",
    "        "
   ]
  },
  {
   "cell_type": "code",
   "execution_count": null,
   "metadata": {},
   "outputs": [],
   "source": []
  }
 ],
 "metadata": {
  "kernelspec": {
   "display_name": "Python 3 (ipykernel)",
   "language": "python",
   "name": "python3"
  },
  "language_info": {
   "codemirror_mode": {
    "name": "ipython",
    "version": 3
   },
   "file_extension": ".py",
   "mimetype": "text/x-python",
   "name": "python",
   "nbconvert_exporter": "python",
   "pygments_lexer": "ipython3",
   "version": "3.12.7"
  }
 },
 "nbformat": 4,
 "nbformat_minor": 4
}
